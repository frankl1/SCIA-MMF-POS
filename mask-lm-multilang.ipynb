{
 "cells": [
  {
   "cell_type": "code",
   "execution_count": 1,
   "metadata": {},
   "outputs": [
    {
     "name": "stderr",
     "output_type": "stream",
     "text": [
      "/Users/bapa/miniconda3/envs/afrika-pos/lib/python3.10/site-packages/tqdm/auto.py:21: TqdmWarning: IProgress not found. Please update jupyter and ipywidgets. See https://ipywidgets.readthedocs.io/en/stable/user_install.html\n",
      "  from .autonotebook import tqdm as notebook_tqdm\n"
     ]
    }
   ],
   "source": [
    "import glob\n",
    "import os\n",
    "from src.lm_model import AfrikaLM"
   ]
  },
  {
   "cell_type": "markdown",
   "metadata": {},
   "source": [
    "# Configure and build the model"
   ]
  },
  {
   "cell_type": "code",
   "execution_count": 2,
   "metadata": {},
   "outputs": [],
   "source": [
    "BASE_MODEL = 'bert-base-cased'\n",
    "NUM_HIDDENS = 2\n",
    "NUM_ATTENTIONS = 12\n",
    "NUM_TRAIN_EPOCH = 50\n",
    "\n",
    "exec_counter = 1"
   ]
  },
  {
   "cell_type": "code",
   "execution_count": 3,
   "metadata": {},
   "outputs": [
    {
     "data": {
      "text/plain": [
       "'data_source/lacuna_pos_ner/language_corpus/ibo/ibo.txt'"
      ]
     },
     "execution_count": 3,
     "metadata": {},
     "output_type": "execute_result"
    }
   ],
   "source": [
    "data_src_fnames = glob.glob(\"data_source/lacuna_pos_ner/language_corpus/*/*.txt\")\n",
    "data_src_fnames[0]"
   ]
  },
  {
   "cell_type": "code",
   "execution_count": 4,
   "metadata": {},
   "outputs": [
    {
     "name": "stdout",
     "output_type": "stream",
     "text": [
      "\n",
      "\n",
      "\n"
     ]
    }
   ],
   "source": [
    "model = AfrikaLM(data_src_fnames, NUM_HIDDENS, NUM_ATTENTIONS, BASE_MODEL)"
   ]
  },
  {
   "cell_type": "code",
   "execution_count": 5,
   "metadata": {},
   "outputs": [
    {
     "name": "stdout",
     "output_type": "stream",
     "text": [
      "#Params: 34482209\n"
     ]
    }
   ],
   "source": [
    "n_params = sum(p.numel() for p in model.model.parameters() if p.requires_grad)\n",
    "print(\"#Params:\", n_params)"
   ]
  },
  {
   "cell_type": "markdown",
   "metadata": {},
   "source": [
    "# Train"
   ]
  },
  {
   "cell_type": "code",
   "execution_count": 6,
   "metadata": {},
   "outputs": [
    {
     "name": "stderr",
     "output_type": "stream",
     "text": [
      "Map (num_proc=4): 100%|██████████| 6400/6400 [00:01<00:00, 3959.05 examples/s]\n",
      "Map (num_proc=4): 100%|██████████| 1600/1600 [00:01<00:00, 1298.41 examples/s]\n",
      "Map (num_proc=4): 100%|██████████| 6400/6400 [00:02<00:00, 2612.28 examples/s]\n",
      "Map (num_proc=4): 100%|██████████| 1600/1600 [00:01<00:00, 1279.60 examples/s]\n",
      "  0%|          | 0/1000 [00:00<?, ?it/s]You're using a BertTokenizerFast tokenizer. Please note that with a fast tokenizer, using the `__call__` method is faster than using a method to encode the text followed by a call to the `pad` method to get a padded encoding.\n",
      " 50%|█████     | 500/1000 [02:51<02:45,  3.02it/s]"
     ]
    },
    {
     "name": "stdout",
     "output_type": "stream",
     "text": [
      "{'loss': 0.6531, 'learning_rate': 1e-05, 'epoch': 1.0}\n"
     ]
    },
    {
     "name": "stderr",
     "output_type": "stream",
     "text": [
      "                                                  \n",
      " 50%|█████     | 500/1000 [03:03<02:45,  3.02it/s]"
     ]
    },
    {
     "name": "stdout",
     "output_type": "stream",
     "text": [
      "{'eval_loss': 0.47823724150657654, 'eval_runtime': 11.5799, 'eval_samples_per_second': 172.541, 'eval_steps_per_second': 10.795, 'epoch': 1.0}\n"
     ]
    },
    {
     "name": "stderr",
     "output_type": "stream",
     "text": [
      "100%|██████████| 1000/1000 [05:41<00:00,  3.21it/s]"
     ]
    },
    {
     "name": "stdout",
     "output_type": "stream",
     "text": [
      "{'loss': 0.4678, 'learning_rate': 0.0, 'epoch': 2.0}\n"
     ]
    },
    {
     "name": "stderr",
     "output_type": "stream",
     "text": [
      "                                                   \n",
      "100%|██████████| 1000/1000 [05:51<00:00,  3.21it/s]"
     ]
    },
    {
     "name": "stdout",
     "output_type": "stream",
     "text": [
      "{'eval_loss': 0.45542100071907043, 'eval_runtime': 10.3931, 'eval_samples_per_second': 192.244, 'eval_steps_per_second': 12.027, 'epoch': 2.0}\n"
     ]
    },
    {
     "name": "stderr",
     "output_type": "stream",
     "text": [
      "100%|██████████| 1000/1000 [05:52<00:00,  2.84it/s]"
     ]
    },
    {
     "name": "stdout",
     "output_type": "stream",
     "text": [
      "{'train_runtime': 352.3637, 'train_samples_per_second': 45.408, 'train_steps_per_second': 2.838, 'train_loss': 0.5604309387207032, 'epoch': 2.0}\n"
     ]
    },
    {
     "name": "stderr",
     "output_type": "stream",
     "text": [
      "\n"
     ]
    }
   ],
   "source": [
    "model.train_model(f\"models/afrikalm-multilang\", num_train_epochs=NUM_TRAIN_EPOCH)"
   ]
  },
  {
   "cell_type": "code",
   "execution_count": 7,
   "metadata": {},
   "outputs": [
    {
     "name": "stderr",
     "output_type": "stream",
     "text": [
      "  0%|          | 0/125 [00:00<?, ?it/s]"
     ]
    },
    {
     "name": "stderr",
     "output_type": "stream",
     "text": [
      "100%|██████████| 125/125 [00:10<00:00, 12.17it/s]"
     ]
    },
    {
     "name": "stdout",
     "output_type": "stream",
     "text": [
      "Perplexity: 1.58\n"
     ]
    },
    {
     "name": "stderr",
     "output_type": "stream",
     "text": [
      "\n"
     ]
    }
   ],
   "source": [
    "ppl = model.evaluate()\n",
    "print(f\"Perplexity: {ppl:.2f}\")"
   ]
  },
  {
   "cell_type": "markdown",
   "metadata": {},
   "source": [
    "## Inference"
   ]
  },
  {
   "cell_type": "code",
   "execution_count": 8,
   "metadata": {},
   "outputs": [],
   "source": [
    "answer = \"bịara\"\n",
    "text = \"Onye ọgba ama ahụ kwuru sị na ndị uweojii ngalaba ahụ [MASK] nwụchikọọ ya mgbe a gwara ha maka ya.\""
   ]
  },
  {
   "cell_type": "code",
   "execution_count": 9,
   "metadata": {},
   "outputs": [
    {
     "data": {
      "text/plain": [
       "[{'score': 0.16119235754013062,\n",
       "  'token': 58,\n",
       "  'token_str': 'a',\n",
       "  'sequence': 'Onye ọgba ama ahụ kwuru sị na ndị uweojii ngalaba ahụ a nwụchikọọ ya mgbe a gwara ha maka ya.'},\n",
       " {'score': 0.09059896320104599,\n",
       "  'token': 62,\n",
       "  'token_str': 'e',\n",
       "  'sequence': 'Onye ọgba ama ahụ kwuru sị na ndị uweojii ngalaba ahụ e nwụchikọọ ya mgbe a gwara ha maka ya.'},\n",
       " {'score': 0.07759804278612137,\n",
       "  'token': 71,\n",
       "  'token_str': 'n',\n",
       "  'sequence': 'Onye ọgba ama ahụ kwuru sị na ndị uweojii ngalaba ahụ n nwụchikọọ ya mgbe a gwara ha maka ya.'}]"
      ]
     },
     "execution_count": 9,
     "metadata": {},
     "output_type": "execute_result"
    }
   ],
   "source": [
    "model.predict(text)"
   ]
  }
 ],
 "metadata": {
  "kernelspec": {
   "display_name": "afrika-pos",
   "language": "python",
   "name": "python3"
  },
  "language_info": {
   "codemirror_mode": {
    "name": "ipython",
    "version": 3
   },
   "file_extension": ".py",
   "mimetype": "text/x-python",
   "name": "python",
   "nbconvert_exporter": "python",
   "pygments_lexer": "ipython3",
   "version": "3.10.13"
  },
  "orig_nbformat": 4
 },
 "nbformat": 4,
 "nbformat_minor": 2
}
